{
  "nbformat": 4,
  "nbformat_minor": 0,
  "metadata": {
    "colab": {
      "name": "PZ_11.ipynb",
      "provenance": [],
      "collapsed_sections": []
    },
    "kernelspec": {
      "name": "python3",
      "display_name": "Python 3"
    },
    "language_info": {
      "name": "python"
    }
  },
  "cells": [
    {
      "cell_type": "markdown",
      "source": [
        "КОД ТРЕТЬЕЙ ПРАКТИЧЕСКОЙ "
      ],
      "metadata": {
        "id": "_bJrOIKudLiP"
      }
    },
    {
      "cell_type": "code",
      "execution_count": 1,
      "metadata": {
        "colab": {
          "base_uri": "https://localhost:8080/"
        },
        "id": "q9UxVSPzcQbO",
        "outputId": "c25732b7-d576-496e-c636-c974489b1c2c"
      },
      "outputs": [
        {
          "output_type": "stream",
          "name": "stdout",
          "text": [
            "Введите длину стороны a: 2\n",
            "Введите длину стороны b: 3\n",
            "Введите длину стороны c: 2\n",
            "Треугольник равнобедренный!\n"
          ]
        }
      ],
      "source": [
        "# Даны целые числа a, b, c, являющиеся сторонами некоторого треугольника.\n",
        "# Проверить истинность высказывания: «Треугольник со сторонами a, b, c является равнобедренным».\n",
        "\n",
        "\n",
        "a = input('Введите длину стороны a: ')\n",
        "b = input('Введите длину стороны b: ')\n",
        "c = input('Введите длину стороны c: ')\n",
        "\n",
        "\n",
        "while type(a) != float:     # обработка исключений\n",
        "    try:\n",
        "        a = float(a)\n",
        "    except ValueError:\n",
        "        print('Введены некорректные данные :(')\n",
        "        a = input('Введите длину стороны a: ')\n",
        "    if int(a) <= 0:\n",
        "        print('Введено неправильное число :(')\n",
        "        a = input('Введите длину стороны a: ')\n",
        "\n",
        "while type(b) != float:\n",
        "    try:\n",
        "        b = float(b)\n",
        "    except ValueError:\n",
        "        print('Введены некорректные данные :(')\n",
        "        b = input('Введите длину стороны b: ')\n",
        "    if int(b) <= 0:\n",
        "        print('Введено неправильное число :(')\n",
        "        b = input('Введите длину стороны b: ')\n",
        "\n",
        "while type(c) != float:\n",
        "    try:\n",
        "        c = float(c)\n",
        "    except ValueError:\n",
        "        print('Введены некорректные данные :(')\n",
        "        c = input('Введите длину стороны с: ')\n",
        "    if int(c) <= 0:\n",
        "        print('Введено неправильное число :(')\n",
        "        c = input('Введите длину стороны c: ')\n",
        "\n",
        "\n",
        "if a == b or b == c or a == c:\n",
        "    print('Треугольник равнобедренный!')\n",
        "else:\n",
        "    print('Треугольник неравнобедренный!')"
      ]
    },
    {
      "cell_type": "code",
      "source": [
        "# Дано вещественное число A и целое число N (N > 0).\n",
        "# Найти A в степени N (числа A перемножаются N раз).\n",
        "\n",
        "\n",
        "\n",
        "A = input('Введите вещественное число: ')\n",
        "while type(A) != float:        # обработка исключений\n",
        "    try:\n",
        "        A = float(A)\n",
        "    except ValueError:\n",
        "        print('Введено неправильное число :(')\n",
        "        A = input('Введите вещественное число: ')\n",
        "\n",
        "\n",
        "N = input('Введите целое число больше 0, которое будет степенью: ')\n",
        "while type(N) != int:\n",
        "    try:\n",
        "        N = int(N)\n",
        "    except ValueError:\n",
        "        print('Введено неправильное число :(')\n",
        "        N = input('Введите целое число больше 0, которое будет степенью: ')\n",
        "\n",
        "if N <= 0:\n",
        "    print('Введено неправильное число :(')\n",
        "    N = input('Введите целое число больше 0, которое будет степенью: ')\n",
        "\n",
        "\n",
        "t = 1     # шаг\n",
        "c = A     # переменная для хранения множителя\n",
        "while t < int(N):\n",
        "    A = c * A\n",
        "    t += 1\n",
        "print(A)"
      ],
      "metadata": {
        "colab": {
          "base_uri": "https://localhost:8080/"
        },
        "id": "FZdsppM6dfDV",
        "outputId": "b7a4318c-6d47-4a8c-9856-75bdfe92e156"
      },
      "execution_count": 2,
      "outputs": [
        {
          "output_type": "stream",
          "name": "stdout",
          "text": [
            "Введите вещественное число: 3\n",
            "Введите целое число больше 0, которое будет степенью: 3\n",
            "27.0\n"
          ]
        }
      ]
    },
    {
      "cell_type": "code",
      "source": [
        "# Найти сумму чисел ряда 1, 2, 3,..., 60 с использованием функции нахождения суммы.\n",
        "# Использовать локальнын переменные.\n",
        "\n",
        "\n",
        "def function_sum(a, b):\n",
        "    sum = 0\n",
        "    while a <= b:\n",
        "        sum = sum + a\n",
        "        a = a + 1\n",
        "    return sum\n",
        "\n",
        "\n",
        "first = float(input('Введите число, с которого начинается ряд: '))\n",
        "last = float(input('Введите число, которым заканчивается ряд: '))\n",
        "total = function_sum(first, last)\n",
        "print('Сумма заданного ряда чисел: ', total)"
      ],
      "metadata": {
        "colab": {
          "base_uri": "https://localhost:8080/"
        },
        "id": "Y8Rd5PCQdmdc",
        "outputId": "f2eb6899-11d6-4266-fd3d-598b6353683d"
      },
      "execution_count": 3,
      "outputs": [
        {
          "output_type": "stream",
          "name": "stdout",
          "text": [
            "Введите число, с которого начинается ряд: 2\n",
            "Введите число, которым заканчивается ряд: 3\n",
            "Сумма заданного ряда чисел:  5.0\n"
          ]
        }
      ]
    },
    {
      "cell_type": "markdown",
      "source": [
        "КОД ПЯТОЙ ПРАКТИЧЕСКОЙ "
      ],
      "metadata": {
        "id": "_XnGHQF6dkR8"
      }
    },
    {
      "cell_type": "markdown",
      "source": [
        "КОД ЧЕТВЕРТОЙ ПРАКТИЧЕСКОЙ "
      ],
      "metadata": {
        "id": "aZfAtwVIda72"
      }
    }
  ]
}